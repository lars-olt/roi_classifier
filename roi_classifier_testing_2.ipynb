{
 "cells": [
  {
   "cell_type": "code",
   "execution_count": null,
   "metadata": {},
   "outputs": [],
   "source": [
    "from pathlib import Path\n",
    "\n",
    "import matplotlib.patches as patches\n",
    "import matplotlib.pyplot as plt\n",
    "import numpy as np\n",
    "import pdr\n",
    "from marslab.imgops.masking import skymask, threshold_mask\n",
    "\n",
    "from roi_classifier import (\n",
    "    add_rois,\n",
    "    apply_homography,\n",
    "    apply_kmeans_to_masked,\n",
    "    average_spectra,\n",
    "    compute_homography,\n",
    "    filter_connected_components,\n",
    "    load_data,\n",
    "    LoadResult,\n",
    "    mask_cube,\n",
    "    plot_spectra,\n",
    "    SHARED_BANDS\n",
    ")\n",
    "from pdr.pds4_tools.extern.zscale import zscale"
   ]
  },
  {
   "cell_type": "code",
   "execution_count": null,
   "metadata": {},
   "outputs": [],
   "source": [
    "# pipeline settings\n",
    "\n",
    "SMALL_ROI_PARAMS = {\n",
    "    \"min_region_sz\": 1200,\n",
    "    \"max_region_sz\": 5000,\n",
    "    \"center_thresh_dif\": 0,\n",
    "    \"density_threshold\": 0.7\n",
    "}\n",
    "FLOAT_MIN_MAX_AREA = (800, 20000)\n",
    "LARGE_ROI_PARAMS = {\n",
    "    \"min_region_sz\": 500,\n",
    "    \"max_region_sz\":  5000,\n",
    "    \"center_thresh_dif\": 50,\n",
    "    \"density_threshold\": 0.5\n",
    "}\n",
    "N_CLUSTERS = {\"float\": 3, \"large\": 4, \"small\": 4}\n",
    "THRESHOLD_KWARGS = {\n",
    "    'percentiles': (6, 99),\n",
    "    'operator': 'and'\n",
    "}\n",
    "SKYMASK_KWARGS = {\n",
    "    'percentile': 75,\n",
    "    'edge_params': {\"maximum\": 5, \"erosion\": 3},\n",
    "    'input_median': 5,\n",
    "    'trace_maximum': 5,\n",
    "    'cutoffs': {\n",
    "        \"extent\": 0.05, \"coverage\": None, \"v\": 0.9, \"h\": None\n",
    "    },\n",
    "    'input_mask_dilation': None,\n",
    "    'input_stretch': (10, 1),\n",
    "    'floodfill': True,\n",
    "    'trim_params': {\"trim\": False},\n",
    "    'clear': True,\n",
    "    'colorblock': False,\n",
    "    'respect_mask': False,\n",
    "}"
   ]
  },
  {
   "cell_type": "markdown",
   "metadata": {},
   "source": [
    "### Load, Pre-process cube"
   ]
  },
  {
   "cell_type": "code",
   "execution_count": null,
   "metadata": {},
   "outputs": [],
   "source": [
    "# NOTE: get_zcam_bandset expects a directory structure like:\n",
    "# sol\n",
    "# sol/iof\n",
    "# sol/pix_map\n",
    "\n",
    "SEARCH_PATH = Path(\"/datascratch/zcam_data/products/1164/iof\")\n",
    "SEQ_ID, OBS_IX = None, 2\n",
    "# NOTE: load_data crops the images inline; trim_margins() is no longer needed\n",
    "load_result: LoadResult = load_data(\n",
    "    SEARCH_PATH, seq_id=SEQ_ID, obs_ix=OBS_IX, do_apply_pixmaps=True\n",
    ") "
   ]
  },
  {
   "cell_type": "code",
   "execution_count": null,
   "metadata": {},
   "outputs": [],
   "source": [
    "l_cube, r_cube = load_result[\"l_cube\"], load_result[\"r_cube\"]"
   ]
  },
  {
   "cell_type": "code",
   "execution_count": null,
   "metadata": {},
   "outputs": [],
   "source": [
    "# b/c we might have applied NaN values to bands of the cube, always use\n",
    "# the original bands for computing homography (NaNs make cv2's SIFT\n",
    "# implementation unhappy)\n",
    "\n",
    "base_bands = load_result[\"base_bands\"]\n",
    "h_matrix = compute_homography(\n",
    "    base_bands[SHARED_BANDS[\"L\"]], base_bands[SHARED_BANDS[\"R\"]],\n",
    ")\n",
    "l_cube_mapped = apply_homography(l_cube, h_matrix, r_cube[0].shape)"
   ]
  },
  {
   "cell_type": "code",
   "execution_count": null,
   "metadata": {},
   "outputs": [],
   "source": [
    "plt.imshow(l_cube_mapped[0])"
   ]
  },
  {
   "cell_type": "code",
   "execution_count": null,
   "metadata": {},
   "outputs": [],
   "source": [
    "full_cube = []\n",
    "shared_band_index = (\n",
    "    sorted(load_result[\"bandset\"].raw)\n",
    "     .index(SHARED_BANDS['L'])\n",
    ")\n",
    "# average left/right views of Bayer and 800nm bands\n",
    "for band in range(shared_band_index + 1):\n",
    "    img = (l_cube_mapped[band] + r_cube[band]) / 2\n",
    "    full_cube.append(img)\n",
    "\n",
    "# add left bands\n",
    "l_num_bands = l_cube.shape[0]\n",
    "for band in range(shared_band_index + 1, l_num_bands):\n",
    "    full_cube.append(l_cube[band])\n",
    "# add right bands\n",
    "r_num_bands = r_cube.shape[0]\n",
    "for band in range(shared_band_index + 1, r_num_bands):\n",
    "    full_cube.append(r_cube[band])\n",
    "\n",
    "full_cube = np.array(full_cube)"
   ]
  },
  {
   "cell_type": "code",
   "execution_count": null,
   "metadata": {},
   "outputs": [],
   "source": [
    "full_cube.shape"
   ]
  },
  {
   "cell_type": "markdown",
   "metadata": {},
   "source": [
    "### Masking shaddows and sky"
   ]
  },
  {
   "cell_type": "code",
   "execution_count": null,
   "metadata": {},
   "outputs": [],
   "source": [
    "# NOTE: this is an unnecessary copy if we didn't apply pixmaps\n",
    "r_cube_base = np.array(\n",
    "    [a for b, a in base_bands.items() if b.startswith('R')]\n",
    ")\n",
    "# mask shadows\n",
    "shadow_tmask = threshold_mask(r_cube_base, **THRESHOLD_KWARGS)\n",
    "\n",
    "# mask the sky\n",
    "sky_tmask = skymask(r_cube_base, **SKYMASK_KWARGS)"
   ]
  },
  {
   "cell_type": "code",
   "execution_count": null,
   "metadata": {},
   "outputs": [],
   "source": [
    "# mask the overlap bewteen the cameras\n",
    "overlap_mask = (l_cube_mapped[shared_band_index] == 0)\n",
    "\n",
    "# combine the masks into one\n",
    "feature_mask = np.logical_or(shadow_tmask, sky_tmask)\n",
    "full_tmask = np.logical_or(feature_mask, overlap_mask)"
   ]
  },
  {
   "cell_type": "markdown",
   "metadata": {},
   "source": [
    "#### NOTE \n",
    "I cut mask_bad_pixels() b/c I think it may be too\n",
    "redundant and unstable with pixmap masking added to shadow\n",
    "and sky masking. (the low end is redundant already!)"
   ]
  },
  {
   "cell_type": "code",
   "execution_count": null,
   "metadata": {},
   "outputs": [],
   "source": [
    "cube_preprocessed = mask_cube(full_cube, full_tmask)\n",
    "del r_cube_base\n",
    "\n",
    "cube_preprocessed.mask = (\n",
    "    cube_preprocessed.mask | ~np.isfinite(cube_preprocessed)\n",
    ")\n",
    "### Identify small surfaces\n",
    "float_clustered = apply_kmeans_to_masked(cube_preprocessed,\n",
    "                                            N_CLUSTERS[\"float\"])\n",
    "float_rock_mask = filter_connected_components(float_clustered,\n",
    "                                              *FLOAT_MIN_MAX_AREA)"
   ]
  },
  {
   "cell_type": "code",
   "execution_count": null,
   "metadata": {},
   "outputs": [],
   "source": [
    "plt.imshow(cube_preprocessed[12])"
   ]
  },
  {
   "cell_type": "code",
   "execution_count": null,
   "metadata": {},
   "outputs": [],
   "source": [
    "plt.imshow(float_clustered, cmap='tab10', interpolation='nearest')"
   ]
  },
  {
   "cell_type": "code",
   "execution_count": null,
   "metadata": {},
   "outputs": [],
   "source": [
    "plt.imshow(float_rock_mask)"
   ]
  },
  {
   "cell_type": "markdown",
   "metadata": {},
   "source": [
    "### Create separate masks for large and small surfaces"
   ]
  },
  {
   "cell_type": "code",
   "execution_count": null,
   "metadata": {},
   "outputs": [],
   "source": [
    "# compute cube prioritizing large surfaces\n",
    "l_surfs_mask = np.logical_or(float_rock_mask, full_tmask)\n",
    "l_surfs = mask_cube(cube_preprocessed, l_surfs_mask)\n",
    "\n",
    "# compute cube prioritizing small surfaces\n",
    "s_surfs_mask = np.logical_or(~float_rock_mask, full_tmask)\n",
    "s_surfs = mask_cube(cube_preprocessed, s_surfs_mask)"
   ]
  },
  {
   "cell_type": "code",
   "execution_count": null,
   "metadata": {},
   "outputs": [],
   "source": [
    "plt.imshow(l_surfs[0])"
   ]
  },
  {
   "cell_type": "code",
   "execution_count": null,
   "metadata": {},
   "outputs": [],
   "source": [
    "plt.imshow(s_surfs[0])"
   ]
  },
  {
   "cell_type": "markdown",
   "metadata": {},
   "source": [
    "### Cluster large/small surface masks"
   ]
  },
  {
   "cell_type": "code",
   "execution_count": null,
   "metadata": {},
   "outputs": [],
   "source": [
    "l_clustered = apply_kmeans_to_masked(l_surfs, N_CLUSTERS[\"large\"])\n",
    "s_clustered = apply_kmeans_to_masked(s_surfs, N_CLUSTERS[\"small\"])"
   ]
  },
  {
   "cell_type": "code",
   "execution_count": null,
   "metadata": {},
   "outputs": [],
   "source": [
    "plt.imshow(l_clustered, cmap='tab20', interpolation='nearest')"
   ]
  },
  {
   "cell_type": "code",
   "execution_count": null,
   "metadata": {},
   "outputs": [],
   "source": [
    "plt.imshow(s_clustered, cmap='tab10', interpolation='nearest')"
   ]
  },
  {
   "cell_type": "markdown",
   "metadata": {},
   "source": [
    "### Identify ROI in classifications"
   ]
  },
  {
   "cell_type": "code",
   "execution_count": null,
   "metadata": {},
   "outputs": [],
   "source": [
    "s_rois = add_rois(s_clustered, **SMALL_ROI_PARAMS)\n",
    "l_rois = add_rois(l_clustered, **LARGE_ROI_PARAMS)"
   ]
  },
  {
   "cell_type": "code",
   "execution_count": null,
   "metadata": {},
   "outputs": [],
   "source": [
    "from marslab.imgops.imgutils import enhance_color"
   ]
  },
  {
   "cell_type": "code",
   "execution_count": null,
   "metadata": {},
   "outputs": [],
   "source": [
    "enhance_color"
   ]
  },
  {
   "cell_type": "code",
   "execution_count": null,
   "metadata": {},
   "outputs": [],
   "source": [
    "# creates rgb image from right bayer bands\n",
    "red = r_cube[0]\n",
    "green = r_cube[1]\n",
    "blue = r_cube[2]\n",
    "\n",
    "rgb = np.ma.masked_invalid(np.stack([red, green, blue], axis=-1))\n",
    "rgb_normalized = enhance_color(rgb, (0, 1), 0.1)\n",
    "\n",
    "plt.imshow(rgb_normalized)"
   ]
  },
  {
   "cell_type": "code",
   "execution_count": null,
   "metadata": {},
   "outputs": [],
   "source": []
  },
  {
   "cell_type": "code",
   "execution_count": null,
   "metadata": {},
   "outputs": [],
   "source": [
    "solar_elevation"
   ]
  },
  {
   "cell_type": "code",
   "execution_count": null,
   "metadata": {},
   "outputs": [],
   "source": [
    "# filter rois based on spectral error and similarity\n",
    "\n",
    "DO_APPLY_R_STAR = True\n",
    "\n",
    "# NOTE: using Data.metaget() here can be sketchy\n",
    "#  b/c ZCAM metadata has multiple solar elevation values\n",
    "#  in different coordinate systems, not always in the same\n",
    "#  order in different label versions!\n",
    "if DO_APPLY_R_STAR is True:\n",
    "    meta = load_result[\"bandset\"].metadata\n",
    "    incidence = meta[\"INCIDENCE_ANGLE\"].unique().mean()\n",
    "    photometric_scaling = np.cos(incidence * 2 * np.pi / 360)\n",
    "else:\n",
    "    photometric_scaling = 1\n",
    "\n",
    "if DO_APPLY_R_STAR is False:\n",
    "    y_axis_units = \"IOF\"\n",
    "else:\n",
    "    y_axis_units = \"Relative Reflectance\"\n",
    "\n",
    "# scale the cube\n",
    "photometrically_calibrated = cube_preprocessed / photometric_scaling"
   ]
  },
  {
   "cell_type": "code",
   "execution_count": null,
   "metadata": {},
   "outputs": [],
   "source": [
    "rois = s_rois + l_rois\n",
    "\n",
    "# convert rect coords to plot coords\n",
    "plt_rois = []\n",
    "for i in range(len(rois)):\n",
    "    x1, y1, w, h = rois[i]\n",
    "    x2 = x1 + w\n",
    "    y2 = y1 + h\n",
    "    plt_rois.append((x1, y1, x2, y2))\n",
    "\n",
    "# calculate average spectra in roi regions\n",
    "spectra, stds = average_spectra(photometrically_calibrated, plt_rois)"
   ]
  },
  {
   "cell_type": "code",
   "execution_count": null,
   "metadata": {},
   "outputs": [],
   "source": [
    "avg_err = stds.mean(axis=1)"
   ]
  },
  {
   "cell_type": "code",
   "execution_count": null,
   "metadata": {},
   "outputs": [],
   "source": [
    "# testing using error as cutoff parameter\n",
    "# might delete...\n",
    "err_threshold = 0.05\n",
    "\n",
    "roi_to_omit = []\n",
    "for i, err in enumerate(avg_err):\n",
    "    if err > err_threshold:\n",
    "        roi_to_omit.append(i)"
   ]
  },
  {
   "cell_type": "code",
   "execution_count": null,
   "metadata": {},
   "outputs": [],
   "source": [
    "# sanity check\n",
    "print(roi_to_omit)"
   ]
  },
  {
   "cell_type": "code",
   "execution_count": null,
   "metadata": {},
   "outputs": [],
   "source": [
    "fig, ax = plt.subplots(figsize=(12, 9))\n",
    "im = ax.imshow(rgb_normalized)\n",
    "\n",
    "COLORS = [\n",
    "        \"#ebac23\",\n",
    "        \"#D80039\",\n",
    "        \"#008cf9\",\n",
    "        \"#AB358A\",\n",
    "        \"#F5029F\",\n",
    "        \"#0E00EE\",\n",
    "        \"#00EB39\",\n",
    "        \"#f05a28\",\n",
    "        \"#15E4B1\",\n",
    "        \"#D16174\",\n",
    "        \"#136B8C\",\n",
    "        \"#DD6E12\",\n",
    "        \"#834C71\"\n",
    "    ]\n",
    "\n",
    "color_i = 0\n",
    "for i, (x1, y1, x2, y2) in enumerate(rois):\n",
    "    if i in roi_to_omit:\n",
    "        continue\n",
    "    \n",
    "    if color_i == len(COLORS):\n",
    "        color_i = 0\n",
    "    \n",
    "    curr_color = COLORS[color_i]\n",
    "    \n",
    "    roi = patches.Rectangle((x1, y1), x2, y2, edgecolor=curr_color, facecolor='none', linewidth=2)\n",
    "    ax.add_patch(roi)\n",
    "    \n",
    "    color_i+=1\n",
    "\n",
    "plt.show()"
   ]
  },
  {
   "cell_type": "code",
   "execution_count": null,
   "metadata": {},
   "outputs": [],
   "source": [
    "markers = [\n",
    "    'o',\n",
    "    's',\n",
    "    '^',\n",
    "    'v',\n",
    "    '*',\n",
    "    'D',\n",
    "    'H'\n",
    "]"
   ]
  },
  {
   "cell_type": "code",
   "execution_count": null,
   "metadata": {},
   "outputs": [],
   "source": [
    "plot_spectra(spectra, stds, COLORS, markers)"
   ]
  },
  {
   "cell_type": "markdown",
   "metadata": {},
   "source": [
    "### testing..."
   ]
  },
  {
   "cell_type": "code",
   "execution_count": null,
   "metadata": {},
   "outputs": [],
   "source": [
    "fits = pdr.read(\"C:\\\\Users\\\\Lars\\\\Downloads\\\\roi_SOL1376_zcam04056_RSM1458.fits.gz\")"
   ]
  },
  {
   "cell_type": "code",
   "execution_count": null,
   "metadata": {},
   "outputs": [],
   "source": [
    "fits"
   ]
  },
  {
   "cell_type": "code",
   "execution_count": null,
   "metadata": {},
   "outputs": [],
   "source": [
    "fits['GREEN LEFT']"
   ]
  },
  {
   "cell_type": "code",
   "execution_count": null,
   "metadata": {},
   "outputs": [],
   "source": [
    "plt.imshow(fits['GREEN LEFT'])"
   ]
  },
  {
   "cell_type": "code",
   "execution_count": null,
   "metadata": {},
   "outputs": [],
   "source": []
  }
 ],
 "metadata": {
  "kernelspec": {
   "display_name": "Python 3 (ipykernel)",
   "language": "python",
   "name": "python3"
  },
  "language_info": {
   "codemirror_mode": {
    "name": "ipython",
    "version": 3
   },
   "file_extension": ".py",
   "mimetype": "text/x-python",
   "name": "python",
   "nbconvert_exporter": "python",
   "pygments_lexer": "ipython3",
   "version": "3.13.1"
  }
 },
 "nbformat": 4,
 "nbformat_minor": 4
}
